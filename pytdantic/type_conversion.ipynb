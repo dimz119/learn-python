{
 "cells": [
  {
   "cell_type": "markdown",
   "metadata": {},
   "source": [
    "### Conversion Table\n",
    "https://docs.pydantic.dev/latest/concepts/conversion_table/#__tabbed_1_1"
   ]
  },
  {
   "cell_type": "code",
   "execution_count": 1,
   "metadata": {},
   "outputs": [
    {
     "name": "stdout",
     "output_type": "stream",
     "text": [
      "123 <class 'int'>\n",
      "2021-01-01 12:34:56 <class 'datetime.datetime'>\n"
     ]
    }
   ],
   "source": [
    "from pydantic import BaseModel\n",
    "from datetime import datetime\n",
    "\n",
    "class User(BaseModel):\n",
    "    id: int\n",
    "    signup_ts: datetime\n",
    "\n",
    "# Assuming JSON input from an external source\n",
    "input_data = {\n",
    "    \"id\": \"123\",  # This is a string, not an integer\n",
    "    \"signup_ts\": \"2021-01-01T12:34:56\"\n",
    "}\n",
    "\n",
    "user = User(**input_data) # type: ignore\n",
    "print(user.id, type(user.id))  # Output: 123 <class 'int'>\n",
    "print(user.signup_ts, type(user.signup_ts))  # Output: 2021-01-01 12:34:56 <class 'datetime.datetime'>"
   ]
  },
  {
   "cell_type": "code",
   "execution_count": null,
   "metadata": {},
   "outputs": [],
   "source": []
  }
 ],
 "metadata": {
  "kernelspec": {
   "display_name": "Python 3",
   "language": "python",
   "name": "python3"
  },
  "language_info": {
   "codemirror_mode": {
    "name": "ipython",
    "version": 3
   },
   "file_extension": ".py",
   "mimetype": "text/x-python",
   "name": "python",
   "nbconvert_exporter": "python",
   "pygments_lexer": "ipython3",
   "version": "3.12.0"
  }
 },
 "nbformat": 4,
 "nbformat_minor": 2
}
