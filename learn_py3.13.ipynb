{
 "cells": [
  {
   "cell_type": "code",
   "execution_count": 4,
   "metadata": {},
   "outputs": [
    {
     "ename": "_IncompleteInputError",
     "evalue": "incomplete input (3134206893.py, line 6)",
     "output_type": "error",
     "traceback": [
      "\u001b[0;36m  Cell \u001b[0;32mIn[4], line 6\u001b[0;36m\u001b[0m\n\u001b[0;31m    # print(greet(\"Alice\")\u001b[0m\n\u001b[0m                          ^\u001b[0m\n\u001b[0;31m_IncompleteInputError\u001b[0m\u001b[0;31m:\u001b[0m incomplete input\n"
     ]
    }
   ],
   "source": [
    "# Enhanced Interactive Interpreter (REPL)\n",
    "def greet(name):\n",
    "    return f\"Hello, {name}!\"\n",
    "\n",
    "print(greet(\"Alice\")\n",
    "# print(greet(\"Alice\")"
   ]
  },
  {
   "cell_type": "code",
   "execution_count": 16,
   "metadata": {},
   "outputs": [
    {
     "name": "stdout",
     "output_type": "stream",
     "text": [
      "{'x': 10}\n"
     ]
    }
   ],
   "source": [
    "def print_locals():\n",
    "    x = 10\n",
    "    print(locals())\n",
    "\n",
    "print_locals()"
   ]
  },
  {
   "cell_type": "code",
   "execution_count": 7,
   "metadata": {},
   "outputs": [
    {
     "name": "stdout",
     "output_type": "stream",
     "text": [
      "0\n",
      "hello\n"
     ]
    }
   ],
   "source": [
    "from typing import TypeVar, Generic\n",
    "\n",
    "T = TypeVar(\"T\", default=int)  # Default type is int\n",
    "\n",
    "class Box(Generic[T]):\n",
    "    def __init__(self, value: T = 0):\n",
    "        self.value = value\n",
    "\n",
    "int_box = Box()  # Uses default int type\n",
    "str_box = Box[str](\"hello\")\n",
    "\n",
    "print(int_box.value)  # Output: 0\n",
    "print(str_box.value)  # Output: hello"
   ]
  },
  {
   "cell_type": "code",
   "execution_count": 14,
   "metadata": {},
   "outputs": [
    {
     "name": "stdout",
     "output_type": "stream",
     "text": [
      "b'By/Jn'\n",
      "b'test'\n",
      "b'hello'\n"
     ]
    }
   ],
   "source": [
    "import base64\n",
    "\n",
    "data = b\"test\"  # 4 bytes\n",
    "encoded = base64.z85encode(data)\n",
    "\n",
    "print(encoded)  # ✅ Output: b\"By/Jn\"\n",
    "print(base64.z85decode(encoded))  # ✅ Output: b\"test\"\n",
    "\n",
    "data = b\"hello\"  # 5 bytes\n",
    "encoded = base64.z85encode(data)  # ❌ ERROR: Must be a multiple of 4, but Python 3.13 allow this\n",
    "print(base64.z85decode(encoded))"
   ]
  },
  {
   "cell_type": "code",
   "execution_count": 9,
   "metadata": {},
   "outputs": [
    {
     "name": "stdout",
     "output_type": "stream",
     "text": [
      "b'value1'\n"
     ]
    }
   ],
   "source": [
    "import dbm\n",
    "\n",
    "with dbm.open(\"testdb\", \"c\") as db:\n",
    "    db[b\"key1\"] = b\"value1\"\n",
    "    print(db[b\"key1\"])  # Output: b'value1'"
   ]
  }
 ],
 "metadata": {
  "kernelspec": {
   "display_name": "Python 3",
   "language": "python",
   "name": "python3"
  },
  "language_info": {
   "codemirror_mode": {
    "name": "ipython",
    "version": 3
   },
   "file_extension": ".py",
   "mimetype": "text/x-python",
   "name": "python",
   "nbconvert_exporter": "python",
   "pygments_lexer": "ipython3",
   "version": "3.13.1"
  }
 },
 "nbformat": 4,
 "nbformat_minor": 2
}
